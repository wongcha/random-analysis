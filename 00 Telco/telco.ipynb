{
 "cells": [
  {
   "cell_type": "markdown",
   "metadata": {},
   "source": [
    "# Preparation"
   ]
  },
  {
   "cell_type": "code",
   "execution_count": 1,
   "metadata": {},
   "outputs": [],
   "source": [
    "import numpy as np\n",
    "import pandas as pd\n",
    "import os\n",
    "import matplotlib.pyplot as plt\n",
    "import seaborn as sns\n",
    "import warnings\n"
   ]
  },
  {
   "cell_type": "code",
   "execution_count": 2,
   "metadata": {},
   "outputs": [
    {
     "name": "stdout",
     "output_type": "stream",
     "text": [
      "C:\\Users\\DELL\\OneDrive\\เดสก์ท็อป\\King Power\n"
     ]
    }
   ],
   "source": [
    "directory = r'C:\\Users\\DELL\\OneDrive\\เดสก์ท็อป\\King Power'\n",
    "os.chdir(directory)\n",
    "print(os.getcwd())"
   ]
  },
  {
   "cell_type": "code",
   "execution_count": 3,
   "metadata": {
    "scrolled": true
   },
   "outputs": [
    {
     "data": {
      "text/plain": [
       "customerID          7043\n",
       "Region              7043\n",
       "gender              7043\n",
       "SeniorCitizen       7043\n",
       "Partner             7043\n",
       "Dependents          7043\n",
       "tenure              7043\n",
       "PhoneService        7043\n",
       "MultipleLines       7043\n",
       "InternetService     7043\n",
       "OnlineSecurity      7043\n",
       "OnlineBackup        7043\n",
       "DeviceProtection    7043\n",
       "TechSupport         7043\n",
       "StreamingTV         7043\n",
       "StreamingMovies     7043\n",
       "Contract            7043\n",
       "PaperlessBilling    7043\n",
       "PaymentMethod       7043\n",
       "MonthlyCharges      7043\n",
       "TotalCharges        7043\n",
       "Churn               7043\n",
       "dtype: int64"
      ]
     },
     "execution_count": 3,
     "metadata": {},
     "output_type": "execute_result"
    }
   ],
   "source": [
    "#read file\n",
    "data = pd.read_csv('telco.csv')\n",
    "data = data.dropna()\n",
    "data.count()"
   ]
  },
  {
   "cell_type": "code",
   "execution_count": 4,
   "metadata": {
    "scrolled": true
   },
   "outputs": [
    {
     "data": {
      "text/html": [
       "<div>\n",
       "<style scoped>\n",
       "    .dataframe tbody tr th:only-of-type {\n",
       "        vertical-align: middle;\n",
       "    }\n",
       "\n",
       "    .dataframe tbody tr th {\n",
       "        vertical-align: top;\n",
       "    }\n",
       "\n",
       "    .dataframe thead th {\n",
       "        text-align: right;\n",
       "    }\n",
       "</style>\n",
       "<table border=\"1\" class=\"dataframe\">\n",
       "  <thead>\n",
       "    <tr style=\"text-align: right;\">\n",
       "      <th></th>\n",
       "      <th>customerID</th>\n",
       "      <th>Region</th>\n",
       "      <th>gender</th>\n",
       "      <th>SeniorCitizen</th>\n",
       "      <th>Partner</th>\n",
       "      <th>Dependents</th>\n",
       "      <th>tenure</th>\n",
       "      <th>PhoneService</th>\n",
       "      <th>MultipleLines</th>\n",
       "      <th>InternetService</th>\n",
       "      <th>...</th>\n",
       "      <th>DeviceProtection</th>\n",
       "      <th>TechSupport</th>\n",
       "      <th>StreamingTV</th>\n",
       "      <th>StreamingMovies</th>\n",
       "      <th>Contract</th>\n",
       "      <th>PaperlessBilling</th>\n",
       "      <th>PaymentMethod</th>\n",
       "      <th>MonthlyCharges</th>\n",
       "      <th>TotalCharges</th>\n",
       "      <th>Churn</th>\n",
       "    </tr>\n",
       "  </thead>\n",
       "  <tbody>\n",
       "    <tr>\n",
       "      <th>0</th>\n",
       "      <td>7590-VHVEG</td>\n",
       "      <td>France</td>\n",
       "      <td>Female</td>\n",
       "      <td>0</td>\n",
       "      <td>Yes</td>\n",
       "      <td>No</td>\n",
       "      <td>1</td>\n",
       "      <td>No</td>\n",
       "      <td>No phone service</td>\n",
       "      <td>DSL</td>\n",
       "      <td>...</td>\n",
       "      <td>No</td>\n",
       "      <td>No</td>\n",
       "      <td>No</td>\n",
       "      <td>No</td>\n",
       "      <td>Month-to-month</td>\n",
       "      <td>Yes</td>\n",
       "      <td>Electronic check</td>\n",
       "      <td>29.85</td>\n",
       "      <td>29.85</td>\n",
       "      <td>No</td>\n",
       "    </tr>\n",
       "    <tr>\n",
       "      <th>1</th>\n",
       "      <td>5575-GNVDE</td>\n",
       "      <td>France</td>\n",
       "      <td>Male</td>\n",
       "      <td>0</td>\n",
       "      <td>No</td>\n",
       "      <td>No</td>\n",
       "      <td>34</td>\n",
       "      <td>Yes</td>\n",
       "      <td>No</td>\n",
       "      <td>DSL</td>\n",
       "      <td>...</td>\n",
       "      <td>Yes</td>\n",
       "      <td>No</td>\n",
       "      <td>No</td>\n",
       "      <td>No</td>\n",
       "      <td>One year</td>\n",
       "      <td>No</td>\n",
       "      <td>Mailed check</td>\n",
       "      <td>56.95</td>\n",
       "      <td>1889.50</td>\n",
       "      <td>No</td>\n",
       "    </tr>\n",
       "    <tr>\n",
       "      <th>2</th>\n",
       "      <td>3668-QPYBK</td>\n",
       "      <td>France</td>\n",
       "      <td>Male</td>\n",
       "      <td>0</td>\n",
       "      <td>No</td>\n",
       "      <td>No</td>\n",
       "      <td>2</td>\n",
       "      <td>Yes</td>\n",
       "      <td>No</td>\n",
       "      <td>DSL</td>\n",
       "      <td>...</td>\n",
       "      <td>No</td>\n",
       "      <td>No</td>\n",
       "      <td>No</td>\n",
       "      <td>No</td>\n",
       "      <td>Month-to-month</td>\n",
       "      <td>Yes</td>\n",
       "      <td>Mailed check</td>\n",
       "      <td>53.85</td>\n",
       "      <td>108.15</td>\n",
       "      <td>Yes</td>\n",
       "    </tr>\n",
       "    <tr>\n",
       "      <th>3</th>\n",
       "      <td>7795-CFOCW</td>\n",
       "      <td>France</td>\n",
       "      <td>Male</td>\n",
       "      <td>0</td>\n",
       "      <td>No</td>\n",
       "      <td>No</td>\n",
       "      <td>45</td>\n",
       "      <td>No</td>\n",
       "      <td>No phone service</td>\n",
       "      <td>DSL</td>\n",
       "      <td>...</td>\n",
       "      <td>Yes</td>\n",
       "      <td>Yes</td>\n",
       "      <td>No</td>\n",
       "      <td>No</td>\n",
       "      <td>One year</td>\n",
       "      <td>No</td>\n",
       "      <td>Bank transfer (automatic)</td>\n",
       "      <td>42.30</td>\n",
       "      <td>1840.75</td>\n",
       "      <td>No</td>\n",
       "    </tr>\n",
       "    <tr>\n",
       "      <th>4</th>\n",
       "      <td>9237-HQITU</td>\n",
       "      <td>France</td>\n",
       "      <td>Female</td>\n",
       "      <td>0</td>\n",
       "      <td>No</td>\n",
       "      <td>No</td>\n",
       "      <td>2</td>\n",
       "      <td>Yes</td>\n",
       "      <td>No</td>\n",
       "      <td>Fiber optic</td>\n",
       "      <td>...</td>\n",
       "      <td>No</td>\n",
       "      <td>No</td>\n",
       "      <td>No</td>\n",
       "      <td>No</td>\n",
       "      <td>Month-to-month</td>\n",
       "      <td>Yes</td>\n",
       "      <td>Electronic check</td>\n",
       "      <td>70.70</td>\n",
       "      <td>151.65</td>\n",
       "      <td>Yes</td>\n",
       "    </tr>\n",
       "  </tbody>\n",
       "</table>\n",
       "<p>5 rows × 22 columns</p>\n",
       "</div>"
      ],
      "text/plain": [
       "   customerID  Region  gender  SeniorCitizen Partner Dependents  tenure  \\\n",
       "0  7590-VHVEG  France  Female              0     Yes         No       1   \n",
       "1  5575-GNVDE  France    Male              0      No         No      34   \n",
       "2  3668-QPYBK  France    Male              0      No         No       2   \n",
       "3  7795-CFOCW  France    Male              0      No         No      45   \n",
       "4  9237-HQITU  France  Female              0      No         No       2   \n",
       "\n",
       "  PhoneService     MultipleLines InternetService  ... DeviceProtection  \\\n",
       "0           No  No phone service             DSL  ...               No   \n",
       "1          Yes                No             DSL  ...              Yes   \n",
       "2          Yes                No             DSL  ...               No   \n",
       "3           No  No phone service             DSL  ...              Yes   \n",
       "4          Yes                No     Fiber optic  ...               No   \n",
       "\n",
       "  TechSupport StreamingTV StreamingMovies        Contract PaperlessBilling  \\\n",
       "0          No          No              No  Month-to-month              Yes   \n",
       "1          No          No              No        One year               No   \n",
       "2          No          No              No  Month-to-month              Yes   \n",
       "3         Yes          No              No        One year               No   \n",
       "4          No          No              No  Month-to-month              Yes   \n",
       "\n",
       "               PaymentMethod MonthlyCharges TotalCharges  Churn  \n",
       "0           Electronic check          29.85        29.85     No  \n",
       "1               Mailed check          56.95      1889.50     No  \n",
       "2               Mailed check          53.85       108.15    Yes  \n",
       "3  Bank transfer (automatic)          42.30      1840.75     No  \n",
       "4           Electronic check          70.70       151.65    Yes  \n",
       "\n",
       "[5 rows x 22 columns]"
      ]
     },
     "execution_count": 4,
     "metadata": {},
     "output_type": "execute_result"
    }
   ],
   "source": [
    "data.head()"
   ]
  },
  {
   "cell_type": "markdown",
   "metadata": {},
   "source": [
    "#  1) What is the current churn rate of this Telco company?"
   ]
  },
  {
   "cell_type": "code",
   "execution_count": 5,
   "metadata": {},
   "outputs": [
    {
     "name": "stdout",
     "output_type": "stream",
     "text": [
      "26.54%\n"
     ]
    }
   ],
   "source": [
    "CntCust = data.count()['customerID']\n",
    "CntChurn = data[data['Churn']=='Yes'].count()['customerID']\n",
    "ChurnRate = CntChurn/CntCust\n",
    "print(\"%.2f%%\" % (ChurnRate*100))"
   ]
  },
  {
   "cell_type": "markdown",
   "metadata": {},
   "source": [
    "# Ans : 1\n",
    "Current churn rate = 26.54%"
   ]
  },
  {
   "cell_type": "markdown",
   "metadata": {},
   "source": [
    "# 2) What is median of tenure of the customers? "
   ]
  },
  {
   "cell_type": "code",
   "execution_count": 6,
   "metadata": {
    "scrolled": true
   },
   "outputs": [
    {
     "data": {
      "text/plain": [
       "29.0"
      ]
     },
     "execution_count": 6,
     "metadata": {},
     "output_type": "execute_result"
    }
   ],
   "source": [
    "data['tenure'].median()"
   ]
  },
  {
   "cell_type": "markdown",
   "metadata": {},
   "source": [
    "# Ans : 2 \n",
    "Median of tenure of the customers = 29 years"
   ]
  },
  {
   "cell_type": "markdown",
   "metadata": {},
   "source": [
    "# 3) What is the difference in churn rate of female senior citizens who use Fibre Optic and DSL? "
   ]
  },
  {
   "cell_type": "code",
   "execution_count": 7,
   "metadata": {
    "scrolled": true
   },
   "outputs": [
    {
     "name": "stdout",
     "output_type": "stream",
     "text": [
      "                 Total Customer  Total Churn Customer  Churn Rate\n",
      "InternetService                                                  \n",
      "DSL                         123                    38    0.308943\n",
      "Fiber optic                 424                   199    0.469340\n",
      "No                           21                     3    0.142857\n"
     ]
    },
    {
     "data": {
      "image/png": "[encoded data removed]",
      "text/plain": [
       "<Figure size 432x288 with 1 Axes>"
      ]
     },
     "metadata": {
      "needs_background": "light"
     },
     "output_type": "display_data"
    }
   ],
   "source": [
    "DataIS = pd.DataFrame()\n",
    "CntCustIS = data[(data['SeniorCitizen']==1) & (data['gender']=='Female')].groupby(['InternetService']).count()['customerID']\n",
    "ChurnCustIS = data[(data['Churn']=='Yes') & (data['SeniorCitizen']==1) & (data['gender']=='Female')].groupby(['InternetService']).count()['customerID']\n",
    "\n",
    "DataIS['Total Customer'] = CntCustIS\n",
    "DataIS['Total Churn Customer'] = ChurnCustIS\n",
    "DataIS['Churn Rate'] = DataIS['Total Churn Customer'] / DataIS['Total Customer']\n",
    "\n",
    "plt.bar(DataIS.index,DataIS['Churn Rate'])\n",
    "plt.xlabel('Internet Service')\n",
    "plt.ylabel('Churn Rate')\n",
    "plt.title('Difference in churn rate of female senior citizens who use Fibre Optic and DSL')\n",
    "print(DataIS)\n",
    "plt.show()"
   ]
  },
  {
   "cell_type": "markdown",
   "metadata": {},
   "source": [
    "# Ans : 3 \n",
    "Churn rate of customer who use fiber optic and DSL are 46.9% and 30.9% respectively, so the difference of churn rate is 13%."
   ]
  },
  {
   "cell_type": "markdown",
   "metadata": {},
   "source": [
    "# 4) Can Fiber optic customers opt out from phone service?"
   ]
  },
  {
   "cell_type": "code",
   "execution_count": 8,
   "metadata": {},
   "outputs": [
    {
     "data": {
      "text/html": [
       "<div>\n",
       "<style scoped>\n",
       "    .dataframe tbody tr th:only-of-type {\n",
       "        vertical-align: middle;\n",
       "    }\n",
       "\n",
       "    .dataframe tbody tr th {\n",
       "        vertical-align: top;\n",
       "    }\n",
       "\n",
       "    .dataframe thead th {\n",
       "        text-align: right;\n",
       "    }\n",
       "</style>\n",
       "<table border=\"1\" class=\"dataframe\">\n",
       "  <thead>\n",
       "    <tr style=\"text-align: right;\">\n",
       "      <th></th>\n",
       "      <th></th>\n",
       "      <th></th>\n",
       "      <th>customerID</th>\n",
       "    </tr>\n",
       "    <tr>\n",
       "      <th>InternetService</th>\n",
       "      <th>PhoneService</th>\n",
       "      <th>Churn</th>\n",
       "      <th></th>\n",
       "    </tr>\n",
       "  </thead>\n",
       "  <tbody>\n",
       "    <tr>\n",
       "      <th rowspan=\"2\" valign=\"top\">Fiber optic</th>\n",
       "      <th rowspan=\"2\" valign=\"top\">Yes</th>\n",
       "      <th>No</th>\n",
       "      <td>1799</td>\n",
       "    </tr>\n",
       "    <tr>\n",
       "      <th>Yes</th>\n",
       "      <td>1297</td>\n",
       "    </tr>\n",
       "  </tbody>\n",
       "</table>\n",
       "</div>"
      ],
      "text/plain": [
       "                                    customerID\n",
       "InternetService PhoneService Churn            \n",
       "Fiber optic     Yes          No           1799\n",
       "                             Yes          1297"
      ]
     },
     "execution_count": 8,
     "metadata": {},
     "output_type": "execute_result"
    }
   ],
   "source": [
    "CustFiberPhone = data[(data['InternetService']=='Fiber optic' )& (data['PhoneService']=='Yes')]\n",
    "CustFiberPhoneChurn = pd.DataFrame(CustFiberPhone.groupby(['InternetService','PhoneService','Churn']).count()['customerID'])\n",
    "CustFiberPhoneChurn"
   ]
  },
  {
   "cell_type": "markdown",
   "metadata": {},
   "source": [
    "# Ans : 4 \n",
    "Yes, because there're 1,297 customers who churn after use internet service(fiber optic) and phone service."
   ]
  },
  {
   "cell_type": "markdown",
   "metadata": {},
   "source": [
    "# 5) Which services do not have tech support? "
   ]
  },
  {
   "cell_type": "code",
   "execution_count": 9,
   "metadata": {
    "scrolled": true
   },
   "outputs": [
    {
     "data": {
      "text/html": [
       "<div>\n",
       "<style scoped>\n",
       "    .dataframe tbody tr th:only-of-type {\n",
       "        vertical-align: middle;\n",
       "    }\n",
       "\n",
       "    .dataframe tbody tr th {\n",
       "        vertical-align: top;\n",
       "    }\n",
       "\n",
       "    .dataframe thead th {\n",
       "        text-align: right;\n",
       "    }\n",
       "</style>\n",
       "<table border=\"1\" class=\"dataframe\">\n",
       "  <thead>\n",
       "    <tr style=\"text-align: right;\">\n",
       "      <th></th>\n",
       "      <th></th>\n",
       "      <th></th>\n",
       "      <th></th>\n",
       "      <th></th>\n",
       "      <th></th>\n",
       "      <th></th>\n",
       "      <th></th>\n",
       "      <th>TechSupport</th>\n",
       "    </tr>\n",
       "    <tr>\n",
       "      <th>PhoneService</th>\n",
       "      <th>MultipleLines</th>\n",
       "      <th>InternetService</th>\n",
       "      <th>OnlineSecurity</th>\n",
       "      <th>OnlineBackup</th>\n",
       "      <th>DeviceProtection</th>\n",
       "      <th>StreamingTV</th>\n",
       "      <th>StreamingMovies</th>\n",
       "      <th></th>\n",
       "    </tr>\n",
       "  </thead>\n",
       "  <tbody>\n",
       "    <tr>\n",
       "      <th rowspan=\"2\" valign=\"top\">Yes</th>\n",
       "      <th>No</th>\n",
       "      <th>No</th>\n",
       "      <th>No internet service</th>\n",
       "      <th>No internet service</th>\n",
       "      <th>No internet service</th>\n",
       "      <th>No internet service</th>\n",
       "      <th>No internet service</th>\n",
       "      <td>1</td>\n",
       "    </tr>\n",
       "    <tr>\n",
       "      <th>Yes</th>\n",
       "      <th>No</th>\n",
       "      <th>No internet service</th>\n",
       "      <th>No internet service</th>\n",
       "      <th>No internet service</th>\n",
       "      <th>No internet service</th>\n",
       "      <th>No internet service</th>\n",
       "      <td>1</td>\n",
       "    </tr>\n",
       "  </tbody>\n",
       "</table>\n",
       "</div>"
      ],
      "text/plain": [
       "                                                                                                                                                TechSupport\n",
       "PhoneService MultipleLines InternetService OnlineSecurity      OnlineBackup        DeviceProtection    StreamingTV         StreamingMovies                 \n",
       "Yes          No            No              No internet service No internet service No internet service No internet service No internet service            1\n",
       "             Yes           No              No internet service No internet service No internet service No internet service No internet service            1"
      ]
     },
     "execution_count": 9,
     "metadata": {},
     "output_type": "execute_result"
    }
   ],
   "source": [
    "\n",
    "DistServ = data[[ 'PhoneService','MultipleLines','InternetService','OnlineSecurity','OnlineBackup','DeviceProtection','TechSupport','StreamingTV','StreamingMovies']]\n",
    "\n",
    "DistServ = DistServ.drop_duplicates()\n",
    "AggDistServ = pd.DataFrame(DistServ.groupby(['PhoneService','MultipleLines','InternetService','OnlineSecurity','OnlineBackup','DeviceProtection','StreamingTV','StreamingMovies']).count()['TechSupport'])\n",
    "\n",
    "AggDistServ[AggDistServ['TechSupport']<2]"
   ]
  },
  {
   "cell_type": "code",
   "execution_count": 10,
   "metadata": {
    "scrolled": true
   },
   "outputs": [
    {
     "data": {
      "text/html": [
       "<div>\n",
       "<style scoped>\n",
       "    .dataframe tbody tr th:only-of-type {\n",
       "        vertical-align: middle;\n",
       "    }\n",
       "\n",
       "    .dataframe tbody tr th {\n",
       "        vertical-align: top;\n",
       "    }\n",
       "\n",
       "    .dataframe thead th {\n",
       "        text-align: right;\n",
       "    }\n",
       "</style>\n",
       "<table border=\"1\" class=\"dataframe\">\n",
       "  <thead>\n",
       "    <tr style=\"text-align: right;\">\n",
       "      <th></th>\n",
       "      <th>PhoneService</th>\n",
       "      <th>MultipleLines</th>\n",
       "      <th>InternetService</th>\n",
       "      <th>OnlineSecurity</th>\n",
       "      <th>OnlineBackup</th>\n",
       "      <th>DeviceProtection</th>\n",
       "      <th>TechSupport</th>\n",
       "      <th>StreamingTV</th>\n",
       "      <th>StreamingMovies</th>\n",
       "    </tr>\n",
       "  </thead>\n",
       "  <tbody>\n",
       "    <tr>\n",
       "      <th>11</th>\n",
       "      <td>Yes</td>\n",
       "      <td>No</td>\n",
       "      <td>No</td>\n",
       "      <td>No internet service</td>\n",
       "      <td>No internet service</td>\n",
       "      <td>No internet service</td>\n",
       "      <td>No internet service</td>\n",
       "      <td>No internet service</td>\n",
       "      <td>No internet service</td>\n",
       "    </tr>\n",
       "    <tr>\n",
       "      <th>58</th>\n",
       "      <td>Yes</td>\n",
       "      <td>Yes</td>\n",
       "      <td>No</td>\n",
       "      <td>No internet service</td>\n",
       "      <td>No internet service</td>\n",
       "      <td>No internet service</td>\n",
       "      <td>No internet service</td>\n",
       "      <td>No internet service</td>\n",
       "      <td>No internet service</td>\n",
       "    </tr>\n",
       "  </tbody>\n",
       "</table>\n",
       "</div>"
      ],
      "text/plain": [
       "   PhoneService MultipleLines InternetService       OnlineSecurity  \\\n",
       "11          Yes            No              No  No internet service   \n",
       "58          Yes           Yes              No  No internet service   \n",
       "\n",
       "           OnlineBackup     DeviceProtection          TechSupport  \\\n",
       "11  No internet service  No internet service  No internet service   \n",
       "58  No internet service  No internet service  No internet service   \n",
       "\n",
       "            StreamingTV      StreamingMovies  \n",
       "11  No internet service  No internet service  \n",
       "58  No internet service  No internet service  "
      ]
     },
     "execution_count": 10,
     "metadata": {},
     "output_type": "execute_result"
    }
   ],
   "source": [
    "DistServ[DistServ['InternetService']=='No']"
   ]
  },
  {
   "cell_type": "markdown",
   "metadata": {},
   "source": [
    "# Ans : 5\n",
    "Customes who only use phone service don't have tech support."
   ]
  },
  {
   "cell_type": "markdown",
   "metadata": {},
   "source": [
    "# 6) Is this statement true? And why do you think so? “The churn rate increases as the customers pay higher monthly charges” "
   ]
  },
  {
   "cell_type": "code",
   "execution_count": 11,
   "metadata": {},
   "outputs": [
    {
     "data": {
      "text/plain": [
       "(array([1797., 1004., 1368., 1822., 1052.]),\n",
       " array([ 18.25,  38.35,  58.45,  78.55,  98.65, 118.75]),\n",
       " <a list of 5 Patch objects>)"
      ]
     },
     "execution_count": 11,
     "metadata": {},
     "output_type": "execute_result"
    },
    {
     "data": {
      "image/png": "[encoded data removed]",
      "text/plain": [
       "<Figure size 432x288 with 1 Axes>"
      ]
     },
     "metadata": {
      "needs_background": "light"
     },
     "output_type": "display_data"
    }
   ],
   "source": [
    "#plot barchart to check monthly charges of customers\n",
    "\n",
    "plt.hist(data['MonthlyCharges'],bins=5,edgecolor = 'k')"
   ]
  },
  {
   "cell_type": "code",
   "execution_count": 12,
   "metadata": {
    "scrolled": false
   },
   "outputs": [
    {
     "data": {
      "text/html": [
       "<div>\n",
       "<style scoped>\n",
       "    .dataframe tbody tr th:only-of-type {\n",
       "        vertical-align: middle;\n",
       "    }\n",
       "\n",
       "    .dataframe tbody tr th {\n",
       "        vertical-align: top;\n",
       "    }\n",
       "\n",
       "    .dataframe thead th {\n",
       "        text-align: right;\n",
       "    }\n",
       "</style>\n",
       "<table border=\"1\" class=\"dataframe\">\n",
       "  <thead>\n",
       "    <tr style=\"text-align: right;\">\n",
       "      <th></th>\n",
       "      <th>Total Customer</th>\n",
       "      <th>Churn</th>\n",
       "      <th>Churn Rate</th>\n",
       "    </tr>\n",
       "    <tr>\n",
       "      <th>MonthlyChargesBin</th>\n",
       "      <th></th>\n",
       "      <th></th>\n",
       "      <th></th>\n",
       "    </tr>\n",
       "  </thead>\n",
       "  <tbody>\n",
       "    <tr>\n",
       "      <th>(0, 20]</th>\n",
       "      <td>656</td>\n",
       "      <td>58</td>\n",
       "      <td>0.088415</td>\n",
       "    </tr>\n",
       "    <tr>\n",
       "      <th>(20, 40]</th>\n",
       "      <td>1182</td>\n",
       "      <td>156</td>\n",
       "      <td>0.131980</td>\n",
       "    </tr>\n",
       "    <tr>\n",
       "      <th>(40, 60]</th>\n",
       "      <td>1080</td>\n",
       "      <td>276</td>\n",
       "      <td>0.255556</td>\n",
       "    </tr>\n",
       "    <tr>\n",
       "      <th>(60, 80]</th>\n",
       "      <td>1459</td>\n",
       "      <td>473</td>\n",
       "      <td>0.324195</td>\n",
       "    </tr>\n",
       "    <tr>\n",
       "      <th>(80, 100]</th>\n",
       "      <td>1764</td>\n",
       "      <td>653</td>\n",
       "      <td>0.370181</td>\n",
       "    </tr>\n",
       "    <tr>\n",
       "      <th>(100, 120]</th>\n",
       "      <td>902</td>\n",
       "      <td>253</td>\n",
       "      <td>0.280488</td>\n",
       "    </tr>\n",
       "  </tbody>\n",
       "</table>\n",
       "</div>"
      ],
      "text/plain": [
       "                   Total Customer  Churn  Churn Rate\n",
       "MonthlyChargesBin                                   \n",
       "(0, 20]                       656     58    0.088415\n",
       "(20, 40]                     1182    156    0.131980\n",
       "(40, 60]                     1080    276    0.255556\n",
       "(60, 80]                     1459    473    0.324195\n",
       "(80, 100]                    1764    653    0.370181\n",
       "(100, 120]                    902    253    0.280488"
      ]
     },
     "execution_count": 12,
     "metadata": {},
     "output_type": "execute_result"
    }
   ],
   "source": [
    "# Create function for calculate churn rate by service(s)\n",
    "def CalChurnRate(data,field):\n",
    "    df = pd.DataFrame()\n",
    "    df['Total Customer'] = data.groupby(field).size()\n",
    "    df['Churn'] = data[data['Churn']=='Yes'].groupby(field).size()\n",
    "    df['Churn Rate'] = df['Churn']/df['Total Customer']\n",
    "    return df\n",
    "\n",
    "# Gruop customers by monthly charges  for calculate churn rate in each group\n",
    "data['MonthlyChargesBin'] = pd.cut(data['MonthlyCharges'],[0,20,40,60,80,100,120])\n",
    "\n",
    "AggCustMonthlyCharges = CalChurnRate(data,['MonthlyChargesBin'])\n",
    "\n",
    "AggCustMonthlyCharges"
   ]
  },
  {
   "cell_type": "markdown",
   "metadata": {},
   "source": [
    "# Ans : 6\n",
    "True for customers who have monthly charges less than 100 USD, the churn rate increases as the customers pay higher monthly charges. But for customers who have monthly charges more than 100 USD, churn rate of customers in this group is less than customer who have 60-80 USD monthly charges."
   ]
  },
  {
   "cell_type": "markdown",
   "metadata": {},
   "source": [
    "# 7) Do you think additional services such as Online backup, Online Security,  and tech support are important from customers’ perspective? Why do you think so? "
   ]
  },
  {
   "cell_type": "code",
   "execution_count": 13,
   "metadata": {},
   "outputs": [
    {
     "data": {
      "image/png": "[encoded data removed]",
      "text/plain": [
       "<Figure size 432x288 with 1 Axes>"
      ]
     },
     "metadata": {
      "needs_background": "light"
     },
     "output_type": "display_data"
    }
   ],
   "source": [
    "OnlineSecurityChurn = CalChurnRate(data,['OnlineSecurity'])\n",
    "OnlineBackupChurn = CalChurnRate(data,['OnlineBackup'])\n",
    "TechSupportChurn = CalChurnRate(data,['TechSupport'])\n",
    "\n",
    "plt.bar(TechSupportChurn.index,TechSupportChurn['Churn Rate'])\n",
    "plt.title('Churn Rate by TechSupport Services')\n",
    "plt.ylabel('Churn Rate')\n",
    "plt.xlabel('TechSupport')\n",
    "plt.show()"
   ]
  },
  {
   "cell_type": "code",
   "execution_count": 14,
   "metadata": {
    "scrolled": true
   },
   "outputs": [
    {
     "data": {
      "image/png": "[encoded data removed]",
      "text/plain": [
       "<Figure size 432x288 with 1 Axes>"
      ]
     },
     "metadata": {
      "needs_background": "light"
     },
     "output_type": "display_data"
    }
   ],
   "source": [
    "plt.bar(OnlineSecurityChurn.index,OnlineSecurityChurn['Churn Rate'])\n",
    "plt.title('Churn Rate by OnlineSecurity Services')\n",
    "plt.ylabel('Churn Rate')\n",
    "plt.xlabel('OnlineSecurity')\n",
    "plt.show()"
   ]
  },
  {
   "cell_type": "code",
   "execution_count": 15,
   "metadata": {
    "scrolled": true
   },
   "outputs": [
    {
     "data": {
      "image/png": "[encoded data removed]",
      "text/plain": [
       "<Figure size 432x288 with 1 Axes>"
      ]
     },
     "metadata": {
      "needs_background": "light"
     },
     "output_type": "display_data"
    }
   ],
   "source": [
    "plt.bar(OnlineBackupChurn.index,OnlineBackupChurn['Churn Rate'])\n",
    "plt.title('Churn Rate by OnlineBackup Services')\n",
    "plt.ylabel('Churn Rate')\n",
    "plt.xlabel('OnlineBackup')\n",
    "plt.show()"
   ]
  },
  {
   "cell_type": "markdown",
   "metadata": {},
   "source": [
    "# Ans : 7\n",
    "Yes because customers who have additional services tend to have less churn rate than customers who don't."
   ]
  },
  {
   "cell_type": "markdown",
   "metadata": {},
   "source": [
    "# 8 Would you recommend the Telco company to target customers who are singles? Why do you think so? "
   ]
  },
  {
   "cell_type": "code",
   "execution_count": 16,
   "metadata": {},
   "outputs": [
    {
     "data": {
      "text/html": [
       "<div>\n",
       "<style scoped>\n",
       "    .dataframe tbody tr th:only-of-type {\n",
       "        vertical-align: middle;\n",
       "    }\n",
       "\n",
       "    .dataframe tbody tr th {\n",
       "        vertical-align: top;\n",
       "    }\n",
       "\n",
       "    .dataframe thead th {\n",
       "        text-align: right;\n",
       "    }\n",
       "</style>\n",
       "<table border=\"1\" class=\"dataframe\">\n",
       "  <thead>\n",
       "    <tr style=\"text-align: right;\">\n",
       "      <th></th>\n",
       "      <th>0</th>\n",
       "      <th>1</th>\n",
       "      <th>%Single</th>\n",
       "    </tr>\n",
       "    <tr>\n",
       "      <th>MonthlyChargesBin</th>\n",
       "      <th></th>\n",
       "      <th></th>\n",
       "      <th></th>\n",
       "    </tr>\n",
       "  </thead>\n",
       "  <tbody>\n",
       "    <tr>\n",
       "      <th>(0, 20]</th>\n",
       "      <td>360</td>\n",
       "      <td>296</td>\n",
       "      <td>0.548780</td>\n",
       "    </tr>\n",
       "    <tr>\n",
       "      <th>(20, 40]</th>\n",
       "      <td>623</td>\n",
       "      <td>559</td>\n",
       "      <td>0.527073</td>\n",
       "    </tr>\n",
       "    <tr>\n",
       "      <th>(40, 60]</th>\n",
       "      <td>667</td>\n",
       "      <td>413</td>\n",
       "      <td>0.617593</td>\n",
       "    </tr>\n",
       "    <tr>\n",
       "      <th>(60, 80]</th>\n",
       "      <td>819</td>\n",
       "      <td>640</td>\n",
       "      <td>0.561343</td>\n",
       "    </tr>\n",
       "    <tr>\n",
       "      <th>(80, 100]</th>\n",
       "      <td>832</td>\n",
       "      <td>932</td>\n",
       "      <td>0.471655</td>\n",
       "    </tr>\n",
       "    <tr>\n",
       "      <th>(100, 120]</th>\n",
       "      <td>340</td>\n",
       "      <td>562</td>\n",
       "      <td>0.376940</td>\n",
       "    </tr>\n",
       "  </tbody>\n",
       "</table>\n",
       "</div>"
      ],
      "text/plain": [
       "                     0    1   %Single\n",
       "MonthlyChargesBin                    \n",
       "(0, 20]            360  296  0.548780\n",
       "(20, 40]           623  559  0.527073\n",
       "(40, 60]           667  413  0.617593\n",
       "(60, 80]           819  640  0.561343\n",
       "(80, 100]          832  932  0.471655\n",
       "(100, 120]         340  562  0.376940"
      ]
     },
     "execution_count": 16,
     "metadata": {},
     "output_type": "execute_result"
    }
   ],
   "source": [
    "# Check if customers who is single tend to use high monthly charges services or not\n",
    "\n",
    "PartnerChargeBin = pd.DataFrame(data.groupby(['MonthlyChargesBin','Partner']).count()['customerID']).reset_index()\n",
    "TrnsPartnerChargeBin = PartnerChargeBin.sort_values('MonthlyChargesBin').groupby('MonthlyChargesBin')['customerID'].apply(lambda df: df.reset_index(drop=True)).unstack()\n",
    "\n",
    "TrnsPartnerChargeBin['%Single']= TrnsPartnerChargeBin[0]/(TrnsPartnerChargeBin[1]+TrnsPartnerChargeBin[0])\n",
    "TrnsPartnerChargeBin"
   ]
  },
  {
   "cell_type": "code",
   "execution_count": 17,
   "metadata": {},
   "outputs": [
    {
     "data": {
      "text/html": [
       "<div>\n",
       "<style scoped>\n",
       "    .dataframe tbody tr th:only-of-type {\n",
       "        vertical-align: middle;\n",
       "    }\n",
       "\n",
       "    .dataframe tbody tr th {\n",
       "        vertical-align: top;\n",
       "    }\n",
       "\n",
       "    .dataframe thead th {\n",
       "        text-align: right;\n",
       "    }\n",
       "</style>\n",
       "<table border=\"1\" class=\"dataframe\">\n",
       "  <thead>\n",
       "    <tr style=\"text-align: right;\">\n",
       "      <th></th>\n",
       "      <th>Total Customer</th>\n",
       "      <th>Churn</th>\n",
       "      <th>Churn Rate</th>\n",
       "    </tr>\n",
       "    <tr>\n",
       "      <th>Partner</th>\n",
       "      <th></th>\n",
       "      <th></th>\n",
       "      <th></th>\n",
       "    </tr>\n",
       "  </thead>\n",
       "  <tbody>\n",
       "    <tr>\n",
       "      <th>No</th>\n",
       "      <td>3641</td>\n",
       "      <td>1200</td>\n",
       "      <td>0.329580</td>\n",
       "    </tr>\n",
       "    <tr>\n",
       "      <th>Yes</th>\n",
       "      <td>3402</td>\n",
       "      <td>669</td>\n",
       "      <td>0.196649</td>\n",
       "    </tr>\n",
       "  </tbody>\n",
       "</table>\n",
       "</div>"
      ],
      "text/plain": [
       "         Total Customer  Churn  Churn Rate\n",
       "Partner                                   \n",
       "No                 3641   1200    0.329580\n",
       "Yes                3402    669    0.196649"
      ]
     },
     "execution_count": 17,
     "metadata": {},
     "output_type": "execute_result"
    }
   ],
   "source": [
    "# Calculate churn rate of customers who have partner and who is single.\n",
    "PartnerChurn = CalChurnRate(data,['Partner'])\n",
    "PartnerChurn"
   ]
  },
  {
   "cell_type": "markdown",
   "metadata": {},
   "source": [
    "# Ans : 8\n",
    "No because customers who are single tend to use low monthly charges services and have higher churn rate when comparing to customers who have partner."
   ]
  },
  {
   "cell_type": "markdown",
   "metadata": {},
   "source": [
    "# 9) Which service you think has serious problems and would recommend the executive of this Telco company to look into?"
   ]
  },
  {
   "cell_type": "code",
   "execution_count": 18,
   "metadata": {},
   "outputs": [
    {
     "data": {
      "text/html": [
       "<div>\n",
       "<style scoped>\n",
       "    .dataframe tbody tr th:only-of-type {\n",
       "        vertical-align: middle;\n",
       "    }\n",
       "\n",
       "    .dataframe tbody tr th {\n",
       "        vertical-align: top;\n",
       "    }\n",
       "\n",
       "    .dataframe thead th {\n",
       "        text-align: right;\n",
       "    }\n",
       "</style>\n",
       "<table border=\"1\" class=\"dataframe\">\n",
       "  <thead>\n",
       "    <tr style=\"text-align: right;\">\n",
       "      <th></th>\n",
       "      <th>PhoneService</th>\n",
       "      <th>MultipleLines</th>\n",
       "      <th>OnlineSecurity</th>\n",
       "      <th>OnlineBackup</th>\n",
       "      <th>DeviceProtection</th>\n",
       "      <th>TechSupport</th>\n",
       "      <th>StreamingTV</th>\n",
       "      <th>StreamingMovies</th>\n",
       "    </tr>\n",
       "  </thead>\n",
       "  <tbody>\n",
       "    <tr>\n",
       "      <th>0</th>\n",
       "      <td>0.267096</td>\n",
       "      <td>0.286099</td>\n",
       "      <td>0.146112</td>\n",
       "      <td>0.215315</td>\n",
       "      <td>0.225021</td>\n",
       "      <td>0.151663</td>\n",
       "      <td>0.300702</td>\n",
       "      <td>0.299414</td>\n",
       "    </tr>\n",
       "  </tbody>\n",
       "</table>\n",
       "</div>"
      ],
      "text/plain": [
       "   PhoneService  MultipleLines  OnlineSecurity  OnlineBackup  \\\n",
       "0      0.267096       0.286099        0.146112      0.215315   \n",
       "\n",
       "   DeviceProtection  TechSupport  StreamingTV  StreamingMovies  \n",
       "0          0.225021     0.151663     0.300702         0.299414  "
      ]
     },
     "execution_count": 18,
     "metadata": {},
     "output_type": "execute_result"
    }
   ],
   "source": [
    "Services = ['PhoneService','MultipleLines','OnlineSecurity','OnlineBackup','DeviceProtection','TechSupport','StreamingTV','StreamingMovies']\n",
    "ChurnByServices = pd.DataFrame()\n",
    "for i in Services:\n",
    "    a = CalChurnRate(data[data[i]=='Yes'],[i]).reset_index()\n",
    "\n",
    "    ChurnByServices[i] = a[a[i]=='Yes']['Churn Rate']\n",
    "    \n",
    "InternetServiceChurn = CalChurnRate(data,['InternetService'])\n",
    "\n",
    "ChurnByServices\n"
   ]
  },
  {
   "cell_type": "code",
   "execution_count": 19,
   "metadata": {},
   "outputs": [
    {
     "data": {
      "text/html": [
       "<div>\n",
       "<style scoped>\n",
       "    .dataframe tbody tr th:only-of-type {\n",
       "        vertical-align: middle;\n",
       "    }\n",
       "\n",
       "    .dataframe tbody tr th {\n",
       "        vertical-align: top;\n",
       "    }\n",
       "\n",
       "    .dataframe thead th {\n",
       "        text-align: right;\n",
       "    }\n",
       "</style>\n",
       "<table border=\"1\" class=\"dataframe\">\n",
       "  <thead>\n",
       "    <tr style=\"text-align: right;\">\n",
       "      <th></th>\n",
       "      <th>Total Customer</th>\n",
       "      <th>Churn</th>\n",
       "      <th>Churn Rate</th>\n",
       "    </tr>\n",
       "    <tr>\n",
       "      <th>InternetService</th>\n",
       "      <th></th>\n",
       "      <th></th>\n",
       "      <th></th>\n",
       "    </tr>\n",
       "  </thead>\n",
       "  <tbody>\n",
       "    <tr>\n",
       "      <th>DSL</th>\n",
       "      <td>2421</td>\n",
       "      <td>459</td>\n",
       "      <td>0.189591</td>\n",
       "    </tr>\n",
       "    <tr>\n",
       "      <th>Fiber optic</th>\n",
       "      <td>3096</td>\n",
       "      <td>1297</td>\n",
       "      <td>0.418928</td>\n",
       "    </tr>\n",
       "    <tr>\n",
       "      <th>No</th>\n",
       "      <td>1526</td>\n",
       "      <td>113</td>\n",
       "      <td>0.074050</td>\n",
       "    </tr>\n",
       "  </tbody>\n",
       "</table>\n",
       "</div>"
      ],
      "text/plain": [
       "                 Total Customer  Churn  Churn Rate\n",
       "InternetService                                   \n",
       "DSL                        2421    459    0.189591\n",
       "Fiber optic                3096   1297    0.418928\n",
       "No                         1526    113    0.074050"
      ]
     },
     "execution_count": 19,
     "metadata": {},
     "output_type": "execute_result"
    }
   ],
   "source": [
    "CalChurnRate(data,['InternetService'])"
   ]
  },
  {
   "cell_type": "markdown",
   "metadata": {},
   "source": [
    "# Ans : 9 \n",
    "Customers who use fiber optic in internet services have high churn rate compare to other services, so I believe that this service is should be the top priority to concern."
   ]
  },
  {
   "cell_type": "markdown",
   "metadata": {},
   "source": [
    "# 10) What features/attributes you think are the most predictive to churn behavior? List the top 3 features with back up analysis. \n"
   ]
  },
  {
   "cell_type": "code",
   "execution_count": 20,
   "metadata": {},
   "outputs": [],
   "source": [
    "#Prepare Data\n",
    "data = pd.read_csv('telco.csv')\n",
    "data_var = data.drop(['customerID','Churn'],axis=1)\n",
    "data_target = pd.DataFrame(data['Churn'])\n",
    "\n",
    "#Prepare categorical features for encoder\n",
    "data_for_label = data[[ 'Region', 'gender','Partner','Dependents', 'PhoneService', 'MultipleLines',\n",
    "                                   'InternetService', 'OnlineSecurity', 'OnlineBackup', 'DeviceProtection',\n",
    "                                   'TechSupport', 'StreamingTV', 'StreamingMovies', 'Contract',\n",
    "                                   'PaperlessBilling', 'PaymentMethod']]\n",
    "data_not_label = data[['SeniorCitizen','tenure','TotalCharges','MonthlyCharges']]\n",
    "\n",
    "data_not_label2 = pd.DataFrame()\n",
    "for col in data_not_label.columns:\n",
    "    data_not_label2[col] = pd.to_numeric(data_not_label[col],errors='coerce')\n"
   ]
  },
  {
   "cell_type": "code",
   "execution_count": 21,
   "metadata": {},
   "outputs": [],
   "source": [
    "from sklearn.preprocessing import LabelEncoder\n",
    "label_encoder = LabelEncoder()"
   ]
  },
  {
   "cell_type": "code",
   "execution_count": 22,
   "metadata": {},
   "outputs": [],
   "source": [
    "# Encode categorical features\n",
    "data_for_label2 = pd.DataFrame()\n",
    "for col in data_for_label.columns:\n",
    "    data_for_label2[col] =label_encoder.fit_transform(data_for_label[col]) \n",
    "\n",
    "data_target['Churn'] = label_encoder.fit_transform(data_target['Churn']) "
   ]
  },
  {
   "cell_type": "code",
   "execution_count": 23,
   "metadata": {},
   "outputs": [],
   "source": [
    "#merge all features together\n",
    "\n",
    "data_encoded = data_for_label2.merge(data_not_label2,left_on = data_for_label2.index,right_on = data_not_label2.index).drop(['key_0'],axis=1)"
   ]
  },
  {
   "cell_type": "code",
   "execution_count": 24,
   "metadata": {},
   "outputs": [],
   "source": [
    "from sklearn.feature_selection import RFE\n",
    "from sklearn.linear_model import LogisticRegression"
   ]
  },
  {
   "cell_type": "code",
   "execution_count": 25,
   "metadata": {},
   "outputs": [],
   "source": [
    "# Ignore warning in sklearn\n",
    "\n",
    "def warn(*args, **kwargs):\n",
    "    pass\n",
    "import warnings\n",
    "warnings.warn = warn"
   ]
  },
  {
   "cell_type": "code",
   "execution_count": 26,
   "metadata": {
    "scrolled": true
   },
   "outputs": [
    {
     "name": "stdout",
     "output_type": "stream",
     "text": [
      "Num Features: 3\n",
      "Selected Features: [False False False False False False False  True False False False False\n",
      " False  True  True False False False False False]\n",
      "Feature Ranking: [11  8 16  2  6  7 13  1  5 10  3 17 15  1  1 12  4  9 18 14]\n"
     ]
    }
   ],
   "source": [
    "model = LogisticRegression()\n",
    "rfe = RFE(model, 3)\n",
    "fit = rfe.fit(data_encoded, data_target)\n",
    "print(\"Num Features: %s\" % (fit.n_features_))\n",
    "print(\"Selected Features: %s\" % (fit.support_))\n",
    "print(\"Feature Ranking: %s\" % (fit.ranking_))"
   ]
  },
  {
   "cell_type": "code",
   "execution_count": 27,
   "metadata": {},
   "outputs": [
    {
     "name": "stdout",
     "output_type": "stream",
     "text": [
      "                     Total Customer  Churn  Churn Rate\n",
      "OnlineSecurity                                        \n",
      "No                             3498   1461    0.417667\n",
      "No internet service            1526    113    0.074050\n",
      "Yes                            2019    295    0.146112\n",
      "                Total Customer  Churn  Churn Rate\n",
      "Contract                                         \n",
      "Month-to-month            3875   1655    0.427097\n",
      "One year                  1473    166    0.112695\n",
      "Two year                  1695     48    0.028319\n",
      "                  Total Customer  Churn  Churn Rate\n",
      "PaperlessBilling                                   \n",
      "No                          2872    469    0.163301\n",
      "Yes                         4171   1400    0.335651\n"
     ]
    }
   ],
   "source": [
    "print(CalChurnRate(data,['OnlineSecurity']))\n",
    "print(CalChurnRate(data,['Contract']))\n",
    "print(CalChurnRate(data,['PaperlessBilling']))"
   ]
  },
  {
   "cell_type": "markdown",
   "metadata": {},
   "source": [
    "# Ans : 10 \n",
    "After using recursive feature elimination technique from sklearn, the top 3 features to calculate the churn rate are \"OnlineSecurity\", \"Contract', \"PaperlessBilling\". If we check the churn rate between types or customers in each features, we'll see the high different churn rate between types. "
   ]
  }
 ],
 "metadata": {
  "kernelspec": {
   "display_name": "Python 3",
   "language": "python",
   "name": "python3"
  },
  "language_info": {
   "codemirror_mode": {
    "name": "ipython",
    "version": 3
   },
   "file_extension": ".py",
   "mimetype": "text/x-python",
   "name": "python",
   "nbconvert_exporter": "python",
   "pygments_lexer": "ipython3",
   "version": "3.7.2"
  }
 },
 "nbformat": 4,
 "nbformat_minor": 2
}
